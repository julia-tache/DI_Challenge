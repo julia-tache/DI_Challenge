{
 "cells": [
  {
   "cell_type": "code",
   "execution_count": 1,
   "metadata": {},
   "outputs": [],
   "source": [
    "from IPython.core.interactiveshell import InteractiveShell\n",
    "\n",
    "InteractiveShell.ast_node_interactivity = \"all\""
   ]
  },
  {
   "cell_type": "code",
   "execution_count": 2,
   "metadata": {
    "scrolled": true
   },
   "outputs": [],
   "source": [
    "import requests \n",
    "import os\n",
    "import json"
   ]
  },
  {
   "cell_type": "code",
   "execution_count": 3,
   "metadata": {},
   "outputs": [],
   "source": [
    "import pandas as pd\n",
    "\n",
    "sessions = list(range(114, 117))\n",
    "sessions = [str(i) for i in sessions]\n",
    "offset = [i for i in range(0, 2000) if i % 20 == 0]\n",
    "\n",
    "urls = ['https://api.propublica.org/congress/v1/' + i + '/committees/hearings.json' for i in sessions] \n",
    "\n",
    "frames = [pd.DataFrame(requests.get(i, {'offset': j}, headers={'X-API-Key': ''}).json()['results'][0]['hearings']) for i in urls for j in offset]\n",
    "gov_df = pd.concat(frames)\n",
    "\n",
    "pd.set_option('display.max_rows', None)"
   ]
  },
  {
   "cell_type": "code",
   "execution_count": 4,
   "metadata": {},
   "outputs": [],
   "source": [
    "gov_df = gov_df.explode('bill_ids')\n",
    "gov_df['bill_ids'] = gov_df['bill_ids'].fillna(\"n/a\")\n",
    "\n",
    "gov_df.to_csv('gov_df.csv', index=False) # create CSV file "
   ]
  },
  {
   "cell_type": "code",
   "execution_count": 5,
   "metadata": {},
   "outputs": [],
   "source": [
    "urls = ['https://api.propublica.org/congress/v1/' + i + '/both/bills/passed.json' for i in sessions] \n",
    "\n",
    "frames = [pd.DataFrame(requests.get(i, {'offset': j}, headers={'X-API-Key': ''}).json()['results'][0]['bills']) for i in urls for j in offset]\n",
    "bills_df = pd.concat(frames)\n",
    "\n",
    "bills_df.to_csv('bills_df.csv', index=False) # create CSV file "
   ]
  },
  {
   "cell_type": "code",
   "execution_count": null,
   "metadata": {},
   "outputs": [],
   "source": [
    "# below is draft work "
   ]
  },
  {
   "cell_type": "code",
   "execution_count": null,
   "metadata": {
    "scrolled": true
   },
   "outputs": [],
   "source": [
    "import pandas as pd\n",
    "\n",
    "l1 = list(range(100, 116))\n",
    "l1 = [str(i) for i in l1]\n",
    "l2 = [i for i in range(0, 2000) if i % 20 == 0]\n",
    "\n",
    "frames = [pd.DataFrame(requests.get('https://api.propublica.org/congress/v1/114/joint/committees/JSEC/hearings.json', {'offset': i}, headers={'X-API-Key': ''}).json()['results'][0]['hearings']) for i in l]"
   ]
  },
  {
   "cell_type": "code",
   "execution_count": null,
   "metadata": {
    "scrolled": true
   },
   "outputs": [],
   "source": [
    "gov_json_0 = r_gov_0.json()\n",
    "gov_json_20 = r_gov_20.json()\n",
    "gov_json_40 = r_gov_40.json()\n",
    "gov_json_60 = r_gov_60.json()\n",
    "gov_json_80 = r_gov_80.json()\n",
    "gov_json_100 = r_gov_100.json()"
   ]
  },
  {
   "cell_type": "code",
   "execution_count": null,
   "metadata": {
    "scrolled": true
   },
   "outputs": [],
   "source": [
    "import pandas as pd \n",
    "\n",
    "gov_json_0_df = pd.DataFrame(gov_json_0['results'][0]['hearings'])\n",
    "gov_json_20_df = pd.DataFrame(gov_json_20['results'][0]['hearings'])\n",
    "gov_json_40_df = pd.DataFrame(gov_json_40['results'][0]['hearings'])\n",
    "gov_json_60_df = pd.DataFrame(gov_json_60['results'][0]['hearings'])\n",
    "gov_json_80_df = pd.DataFrame(gov_json_80['results'][0]['hearings'])\n",
    "gov_json_100_df = pd.DataFrame(gov_json_100['results'][0]['hearings'])"
   ]
  },
  {
   "cell_type": "code",
   "execution_count": null,
   "metadata": {
    "scrolled": true
   },
   "outputs": [],
   "source": [
    "frames = [gov_json_0_df, gov_json_20_df, gov_json_40_df, gov_json_60_df, gov_json_80_df, gov_json_100_df]"
   ]
  },
  {
   "cell_type": "code",
   "execution_count": null,
   "metadata": {
    "scrolled": true
   },
   "outputs": [],
   "source": [
    "pd.concat(frames)"
   ]
  }
 ],
 "metadata": {
  "kernelspec": {
   "display_name": "Python 3",
   "language": "python",
   "name": "python3"
  },
  "language_info": {
   "codemirror_mode": {
    "name": "ipython",
    "version": 3
   },
   "file_extension": ".py",
   "mimetype": "text/x-python",
   "name": "python",
   "nbconvert_exporter": "python",
   "pygments_lexer": "ipython3",
   "version": "3.8.3"
  }
 },
 "nbformat": 4,
 "nbformat_minor": 4
}
